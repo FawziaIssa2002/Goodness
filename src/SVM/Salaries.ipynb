{
 "cells": [
  {
   "cell_type": "code",
   "execution_count": 14,
   "id": "0d979643-2721-4c93-86c5-5f2bf7b20bc0",
   "metadata": {},
   "outputs": [],
   "source": [
    "import pandas as pd\n",
    "from sklearn.model_selection import train_test_split\n",
    "from sklearn.preprocessing import OneHotEncoder\n",
    "from sklearn.svm import SVC\n",
    "from sklearn.metrics import accuracy_score, classification_report\n",
    "from flask import Flask, request, jsonify\n",
    "import json"
   ]
  },
  {
   "cell_type": "code",
   "execution_count": 15,
   "id": "bc8e8fdd",
   "metadata": {},
   "outputs": [
    {
     "name": "stdout",
     "output_type": "stream",
     "text": [
      "دقة النموذج: 0.9865229110512129\n"
     ]
    }
   ],
   "source": [
    "# إعداد البيانات وتدريب النموذج\n",
    "data = pd.read_excel('Salaries4(1).xlsx')\n",
    "data = data.drop_duplicates()\n",
    "\n",
    "features = data.drop(columns=['accept'])\n",
    "target = data['accept']\n",
    "\n",
    "X_train, X_test, y_train, y_test = train_test_split(features, target, test_size=0.4, random_state=42)\n",
    "\n",
    "svm_model = SVC()\n",
    "svm_model.fit(X_train, y_train)\n",
    "\n",
    "# التنبؤ على مجموعة الاختبار\n",
    "y_pred = svm_model.predict(X_test)\n",
    "\n",
    "# تقييم النموذج\n",
    "accuracy = accuracy_score(y_test, y_pred)\n",
    "report = classification_report(y_test, y_pred)\n",
    "\n",
    "print(\"دقة النموذج:\", accuracy)\n"
   ]
  },
  {
   "cell_type": "code",
   "execution_count": 16,
   "id": "c93c6d98",
   "metadata": {},
   "outputs": [],
   "source": [
    "# إنشاء خادم Flask\n",
    "app = Flask(__name__)\n",
    "\n",
    "@app.route('/predict', methods=['POST'])\n",
    "def predict():\n",
    "    input_data = request.json\n",
    "    df = pd.DataFrame([input_data])\n",
    "    prediction = svm_model.predict(df)\n",
    "    result = prediction[0]\n",
    "    return jsonify({'result': bool(result)})\n",
    "\n",
    "# if __name__ == '__main__':\n",
    "#     app.run(debug=True)\n"
   ]
  },
  {
   "cell_type": "code",
   "execution_count": 17,
   "id": "9d3c7e52-c4ff-4fea-870b-569dad8c8435",
   "metadata": {},
   "outputs": [],
   "source": [
    "\n",
    "# # قراءة ملف Excel\n",
    "# data = pd.read_excel('Salaries4(1).xlsx')\n",
    "\n",
    "# # تحويل جميع الأعمدة إلى نص\n",
    "# # data = data.astype(str)\n",
    "# print(data)\n",
    "# # حذف العناصر المتكررة\n",
    "# data = data.drop_duplicates() \n",
    "\n",
    "# # خلط الصفوف\n",
    "# # data = data.sample(frac=1).reset_index(drop=True)\n",
    "\n",
    "# # # تحويل الأعمدة النصية إلى تمثيلات رقمية باستخدام One-Hot Encoding\n",
    "# # encoder = OneHotEncoder(sparse_output=False)\n",
    "\n",
    "# # استخراج الأعمدة المستخدمة كميزات (features)\n",
    "# features = data.drop(columns=['accept'])\n",
    "# # features_encoded = pd.DataFrame(encoder.fit_transform(features))\n",
    "\n",
    "# # إعادة تسمية الأعمدة بعد الترميز\n",
    "# # features_encoded.columns = encoder.get_feature_names_out(features.columns)\n",
    "\n",
    "# # استخراج العمود المستهدف\n",
    "# target = data['accept']\n",
    "\n",
    "# # تقسيم البيانات إلى مجموعة تدريب (80%) ومجموعة اختبار (20%)\n",
    "# X_train, X_test, y_train, y_test = train_test_split(features, target, test_size=0.4, random_state=42)\n",
    "\n",
    "# # تدريب خوارزمية SVM\n",
    "# svm_model = SVC()\n",
    "# svm_model.fit(X_train, y_train)\n",
    "\n",
    "# # التنبؤ على مجموعة الاختبار\n",
    "# y_pred = svm_model.predict(X_test)\n",
    "\n",
    "# # تقييم النموذج\n",
    "# accuracy = accuracy_score(y_test, y_pred)\n",
    "# report = classification_report(y_test, y_pred)\n",
    "\n",
    "# print(\"عدد الصفوف قبل الحذف:\", len(data))\n",
    "# print(\"عدد الصفوف بعد الحذف:\", data.shape[0])\n",
    "# print(\"دقة النموذج:\", accuracy)\n",
    "# print(\"تقرير التصنيف:\\n\", report)\n"
   ]
  },
  {
   "cell_type": "code",
   "execution_count": 18,
   "id": "6948aafb",
   "metadata": {},
   "outputs": [
    {
     "name": "stdout",
     "output_type": "stream",
     "text": [
      "التنبؤ للحالة الجديدة: False\n"
     ]
    }
   ],
   "source": [
    "new_sample = pd.DataFrame([{\n",
    "    # 'job': 'معلم خاص',\n",
    "    'num_family': '5',\n",
    "    'base_pay': '5500000', \n",
    "    'birthday': '2000',\n",
    "    'state': '44'\n",
    "}])\n",
    "\n",
    "# التأكد من أن الأعمدة في العينة الجديدة تتطابق مع الأعمدة المستخدمة في التدريب\n",
    "# new_sample_encoded = pd.DataFrame(encoder.transform(new_sample), columns=encoder.get_feature_names_out(new_sample.columns))\n",
    "\n",
    "# التنبؤ بالحالة للعينة الجديدة\n",
    "new_prediction = svm_model.predict(new_sample)\n",
    "\n",
    "print(\"التنبؤ للحالة الجديدة:\", new_prediction[0])"
   ]
  },
  {
   "cell_type": "code",
   "execution_count": null,
   "id": "7d795f71",
   "metadata": {},
   "outputs": [],
   "source": []
  }
 ],
 "metadata": {
  "kernelspec": {
   "display_name": "Python 3 (ipykernel)",
   "language": "python",
   "name": "python3"
  },
  "language_info": {
   "codemirror_mode": {
    "name": "ipython",
    "version": 3
   },
   "file_extension": ".py",
   "mimetype": "text/x-python",
   "name": "python",
   "nbconvert_exporter": "python",
   "pygments_lexer": "ipython3",
   "version": "3.11.4"
  },
  "vscode": {
   "interpreter": {
    "hash": "3c06e3e46abf38078fe4dac36a0085ec2b134ebbd73dd076183d243eeca6918f"
   }
  }
 },
 "nbformat": 4,
 "nbformat_minor": 5
}
