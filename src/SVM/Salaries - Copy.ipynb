{
 "cells": [
  {
   "cell_type": "code",
   "execution_count": 1,
   "id": "bc8e8fdd",
   "metadata": {},
   "outputs": [
    {
     "name": "stdout",
     "output_type": "stream",
     "text": [
      "دقة نموذج SVM: 0.9865229110512129\n",
      "تقرير التصنيف لنموذج SVM:\n",
      "               precision    recall  f1-score   support\n",
      "\n",
      "       False       1.00      0.97      0.98       166\n",
      "        True       0.98      1.00      0.99       205\n",
      "\n",
      "    accuracy                           0.99       371\n",
      "   macro avg       0.99      0.98      0.99       371\n",
      "weighted avg       0.99      0.99      0.99       371\n",
      "\n",
      "تم حفظ النموذج في trained_model.sav\n"
     ]
    }
   ],
   "source": [
    "import pandas as pd\n",
    "from sklearn.model_selection import train_test_split\n",
    "from sklearn.svm import SVC\n",
    "from sklearn.metrics import accuracy_score, classification_report\n",
    "import pickle\n",
    "\n",
    "# إعداد البيانات\n",
    "data = pd.read_excel('Salaries4(1).xlsx')\n",
    "data = data.drop_duplicates()\n",
    "\n",
    "# استخراج الميزات والهدف\n",
    "features = data.drop(columns=['accept'])\n",
    "target = data['accept']\n",
    "\n",
    "# تقسيم البيانات إلى مجموعة التدريب والاختبار\n",
    "X_train, X_test, y_train, y_test = train_test_split(features, target, test_size=0.4, random_state=42)\n",
    "\n",
    "# تدريب نموذج SVM\n",
    "svm_model = SVC()\n",
    "svm_model.fit(X_train, y_train)\n",
    "\n",
    "# التنبؤ باستخدام نموذج SVM\n",
    "y_pred_svm = svm_model.predict(X_test)\n",
    "\n",
    "# تقييم نموذج SVM\n",
    "accuracy_svm = accuracy_score(y_test, y_pred_svm)\n",
    "report_svm = classification_report(y_test, y_pred_svm)\n",
    "\n",
    "print(\"دقة نموذج SVM:\", accuracy_svm)\n",
    "print(\"تقرير التصنيف لنموذج SVM:\\n\", report_svm)\n",
    "\n",
    "# حفظ النموذج باستخدام pickle\n",
    "filename = 'trained_model.sav'\n",
    "with open(filename, 'wb') as file:\n",
    "    pickle.dump(svm_model, file)\n",
    "\n",
    "print(\"تم حفظ النموذج في\", filename)\n"
   ]
  },
  {
   "cell_type": "code",
   "execution_count": 2,
   "id": "6948aafb",
   "metadata": {},
   "outputs": [
    {
     "name": "stdout",
     "output_type": "stream",
     "text": [
      "التنبؤ للحالة الجديدة: False\n"
     ]
    }
   ],
   "source": [
    "new_sample = pd.DataFrame([{\n",
    "    # 'job': 'معلم خاص',\n",
    "    'num_family': '5',\n",
    "    'base_pay': '5500000', \n",
    "    'birthday': '2000',\n",
    "    'state': '44'\n",
    "}])\n",
    "\n",
    "# التأكد من أن الأعمدة في العينة الجديدة تتطابق مع الأعمدة المستخدمة في التدريب\n",
    "# new_sample_encoded = pd.DataFrame(encoder.transform(new_sample), columns=encoder.get_feature_names_out(new_sample.columns))\n",
    "\n",
    "# التنبؤ بالحالة للعينة الجديدة\n",
    "new_prediction = svm_model.predict(new_sample)\n",
    "\n",
    "print(\"التنبؤ للحالة الجديدة:\", new_prediction[0])"
   ]
  },
  {
   "cell_type": "code",
   "execution_count": null,
   "id": "7d795f71",
   "metadata": {},
   "outputs": [],
   "source": []
  }
 ],
 "metadata": {
  "kernelspec": {
   "display_name": "Python 3 (ipykernel)",
   "language": "python",
   "name": "python3"
  },
  "language_info": {
   "codemirror_mode": {
    "name": "ipython",
    "version": 3
   },
   "file_extension": ".py",
   "mimetype": "text/x-python",
   "name": "python",
   "nbconvert_exporter": "python",
   "pygments_lexer": "ipython3",
   "version": "3.11.4"
  },
  "vscode": {
   "interpreter": {
    "hash": "3c06e3e46abf38078fe4dac36a0085ec2b134ebbd73dd076183d243eeca6918f"
   }
  }
 },
 "nbformat": 4,
 "nbformat_minor": 5
}
